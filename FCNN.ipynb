{
  "nbformat": 4,
  "nbformat_minor": 0,
  "metadata": {
    "colab": {
      "provenance": [],
      "collapsed_sections": [
        "NtaDdR7I_CVf",
        "cWJJS-Ie1G0u",
        "9KLB2LHlcx1h"
      ],
      "authorship_tag": "ABX9TyOWot9+vTfmgro8VW5XiMqg",
      "include_colab_link": true
    },
    "kernelspec": {
      "name": "python3",
      "display_name": "Python 3"
    },
    "language_info": {
      "name": "python"
    }
  },
  "cells": [
    {
      "cell_type": "markdown",
      "metadata": {
        "id": "view-in-github",
        "colab_type": "text"
      },
      "source": [
        "<a href=\"https://colab.research.google.com/github/19G12/DL_scratch/blob/main/FCNN.ipynb\" target=\"_parent\"><img src=\"https://colab.research.google.com/assets/colab-badge.svg\" alt=\"Open In Colab\"/></a>"
      ]
    },
    {
      "cell_type": "markdown",
      "source": [
        "## **Day 1**\n",
        "\n",
        "*   Load and normalize MNIST Data\n",
        "*   Linear with He initialization (weights from gaussian dist)\n",
        "*   Implement ReLU\n",
        "*   Chain 2 levels with RELU and do a forward pass"
      ],
      "metadata": {
        "id": "NtaDdR7I_CVf"
      }
    },
    {
      "cell_type": "code",
      "source": [
        "import os\n",
        "import urllib.request\n",
        "import numpy as np\n",
        "import gzip\n",
        "import pandas as pd"
      ],
      "metadata": {
        "id": "xN__J2v0BSYz"
      },
      "execution_count": null,
      "outputs": []
    },
    {
      "cell_type": "code",
      "source": [
        "# We already have train and test split data\n",
        "\n",
        "mnist_test = pd.read_csv('/content/sample_data/mnist_test.csv')\n",
        "mnist_train = pd.read_csv('/content/sample_data/mnist_train_small.csv')\n",
        "\n",
        "Y_train = mnist_train.iloc[:, 0].to_numpy()\n",
        "X_train = mnist_train.iloc[:, 1:].to_numpy().reshape(-1, 28*28)/255\n",
        "\n",
        "Y_test = mnist_test.iloc[:, 0].to_numpy()\n",
        "X_test = mnist_test.iloc[:, 1:].to_numpy().reshape(-1, 28*28)/255"
      ],
      "metadata": {
        "id": "Ixw3RRs8DZ7G"
      },
      "execution_count": null,
      "outputs": []
    },
    {
      "cell_type": "code",
      "source": [
        "print(\"Train shape:\", X_train.shape, Y_train.shape)\n",
        "print(\"Test shape:\", X_test.shape, Y_test.shape)"
      ],
      "metadata": {
        "colab": {
          "base_uri": "https://localhost:8080/"
        },
        "id": "r2OI7SfTEMis",
        "outputId": "5ee3abf4-9e16-4504-e6cd-f30a1e3c3801"
      },
      "execution_count": null,
      "outputs": [
        {
          "output_type": "stream",
          "name": "stdout",
          "text": [
            "Train shape: (19999, 784) (19999,)\n",
            "Test shape: (9999, 784) (9999,)\n"
          ]
        }
      ]
    },
    {
      "cell_type": "code",
      "source": [
        "## Linear Layer with He initialization\n",
        "\n",
        "class LinearLayer:\n",
        "\n",
        "  def __init__(self, input_dim, output_dim):\n",
        "    self.W = np.random.randn(input_dim, output_dim) * np.sqrt(2. /input_dim)\n",
        "    self.b = np.zeros((1, output_dim))\n",
        "    self.dW = 0\n",
        "    self.db = 0\n",
        "\n",
        "  def forward(self, X):\n",
        "    self.X = X\n",
        "    return np.dot(X, self.W) + self.b # Numpy broadcasting\n",
        "\n",
        "  # Day2\n",
        "  def backward(self, dL_dY):\n",
        "    self.dW = np.dot(self.X.T, dL_dY)\n",
        "    self.db = np.sum(dL_dY, axis=0, keepdims=True)\n",
        "    return np.dot(dL_dY, self.W.T) # This is h(k-1) layer"
      ],
      "metadata": {
        "id": "vuv0he53HGE6"
      },
      "execution_count": null,
      "outputs": []
    },
    {
      "cell_type": "code",
      "source": [
        "## RelU activation\n",
        "\n",
        "class ReLU:\n",
        "\n",
        "  def forward(self,X):\n",
        "    self.mask = X>0\n",
        "    return X*self.mask\n",
        "\n",
        "  # Day2\n",
        "  def backward(self, grad_output):\n",
        "    return self.mask * grad_output"
      ],
      "metadata": {
        "id": "NCqXx_KgILPG"
      },
      "execution_count": null,
      "outputs": []
    },
    {
      "cell_type": "code",
      "source": [
        "## LeakyRelu activation\n",
        "\n",
        "class LeakyRelU:\n",
        "\n",
        "  def forward(self, X):\n",
        "    self.mask = X>0\n",
        "    return X*np.where(self.mask, 1, 0.01)\n",
        "\n",
        "  # Day2\n",
        "  def backward(self, grad_output):\n",
        "    return grad_output * np.where(self.mask, 1, 0.01)"
      ],
      "metadata": {
        "id": "yUrfzDnBwDaN"
      },
      "execution_count": null,
      "outputs": []
    },
    {
      "cell_type": "code",
      "source": [
        "## Compute safe softmax and cross entropy loss, from logits input - Day2\n",
        "\n",
        "def softmax_cross_entropy_loss(logits, labels):\n",
        "\n",
        "  exp = np.exp(logits - np.max(logits, axis=1, keepdims=True))\n",
        "  softmax = exp / np.sum(exp, axis=1, keepdims=True)\n",
        "\n",
        "  batch_size = logits.shape[0]\n",
        "  correct_logprobs = -np.log(softmax[np.arange(batch_size), labels] + 1e-9)\n",
        "  loss = np.sum(correct_logprobs) / batch_size\n",
        "  return softmax, loss"
      ],
      "metadata": {
        "id": "XWv-43g8lV9Q"
      },
      "execution_count": null,
      "outputs": []
    },
    {
      "cell_type": "code",
      "source": [
        "## Gradients of loss at output layer - Day2\n",
        "\n",
        "def softmax_cross_entropy_loss_backward(softmax_probs, labels):\n",
        "\n",
        "  batch_size = softmax_probs.shape[0]\n",
        "  grad = softmax_probs.copy()\n",
        "  grad[np.arange(batch_size), labels] -= 1\n",
        "  grad /= batch_size\n",
        "  return grad"
      ],
      "metadata": {
        "id": "zRaWaz2Koiti"
      },
      "execution_count": null,
      "outputs": []
    },
    {
      "cell_type": "code",
      "source": [
        "## Make a dummy network 3 layer deep\n",
        "\n",
        "layer1 = LinearLayer(784,128)\n",
        "relu1 = ReLU()\n",
        "layer2 = LinearLayer(128, 64)\n",
        "relu2 = ReLU()\n",
        "layer3 = LinearLayer(64, 10)\n",
        "\n",
        "def forward_pass(x):\n",
        "  layer1_out = layer1.forward(x)\n",
        "  relu1_out = relu1.forward(layer1_out)\n",
        "  layer2_out = layer2.forward(relu1_out)\n",
        "  relu2_out = relu2.forward(layer2_out)\n",
        "  layer3_out = layer3.forward(relu2_out)\n",
        "  return layer3_out\n"
      ],
      "metadata": {
        "id": "TvpdK2kaJLra"
      },
      "execution_count": null,
      "outputs": []
    },
    {
      "cell_type": "code",
      "source": [
        "## Make a minibatch and pass\n",
        "\n",
        "X_batch = X_train[:5]\n",
        "Y_batch = Y_train[:5]\n",
        "\n",
        "out = forward_pass(X_batch)\n",
        "print(\"Output shape: \", out.shape)\n",
        "print(\"Output logits: \", out)"
      ],
      "metadata": {
        "colab": {
          "base_uri": "https://localhost:8080/"
        },
        "id": "SNIKzu8hKq_R",
        "outputId": "0a374f63-b122-498d-e841-af5b6c06eb8f"
      },
      "execution_count": null,
      "outputs": [
        {
          "output_type": "stream",
          "name": "stdout",
          "text": [
            "Output shape:  (5, 10)\n",
            "Output logits:  [[ 0.27687057 -0.6981354  -0.66782025 -0.14167052  0.62019475  0.32296846\n",
            "  -0.70735487 -0.43305741 -0.39987477 -0.3719002 ]\n",
            " [-0.29078071 -0.7938101  -0.63673306  0.03034183 -0.33481601  0.73639029\n",
            "  -0.11591442 -0.53626534 -0.97250719  0.60936038]\n",
            " [ 0.04149395 -0.38661013 -0.6404815  -0.10705742 -0.49497382  0.33926206\n",
            "  -0.74186933 -0.45792528 -0.75038952  0.13025264]\n",
            " [ 0.18981326 -0.30410043 -0.31195133 -0.17597901  0.00403582  0.00217031\n",
            "  -0.3087758  -0.14603987 -0.31820903 -0.2874532 ]\n",
            " [-0.14529557 -0.25184454 -0.77338255  0.12671598 -0.23811856 -0.62026095\n",
            "  -0.42113235 -0.48517241 -0.60102408  0.20466321]]\n"
          ]
        }
      ]
    },
    {
      "cell_type": "markdown",
      "source": [
        "## **Day 2**\n",
        "\n",
        "1.   Implement forward pass\n",
        "2.   Implement cross_entropy loss\n",
        "3.   Implement backpropagation\n",
        "4.   Prepare for weight updates"
      ],
      "metadata": {
        "id": "zSgkRJ71jFFp"
      }
    },
    {
      "cell_type": "code",
      "source": [
        "## Forward propagation\n",
        "## The above changes has been made to the earlier code itself\n",
        "\n",
        "X_batch = X_train[:5]\n",
        "Y_batch = Y_train[:5]\n",
        "\n",
        "out = forward_pass(X_batch)\n",
        "probs, loss1 = softmax_cross_entropy_loss(out, Y_batch)"
      ],
      "metadata": {
        "id": "sV_KlGFTj9F7"
      },
      "execution_count": null,
      "outputs": []
    },
    {
      "cell_type": "code",
      "source": [
        "# Back-tracking\n",
        "softmax_grad = softmax_cross_entropy_loss_backward(probs, Y_batch)\n",
        "grad = layer3.backward(softmax_grad)\n",
        "grad = relu2.backward(grad)\n",
        "grad = layer2.backward(grad)\n",
        "grad = relu1.backward(grad)\n",
        "fin_grad = layer1.backward(grad)\n",
        "\n",
        "# Update all layer weights with simple GD\n",
        "learning_rate = 0.01\n",
        "layer1.W -= learning_rate * layer1.dW\n",
        "layer1.b -= learning_rate * layer1.db\n",
        "\n",
        "layer2.W -= learning_rate * layer2.dW\n",
        "layer2.b -= learning_rate * layer2.db\n",
        "\n",
        "layer3.W -= learning_rate * layer3.dW\n",
        "layer3.b -= learning_rate * layer3.db"
      ],
      "metadata": {
        "id": "cirQyyLsGwBA"
      },
      "execution_count": null,
      "outputs": []
    },
    {
      "cell_type": "code",
      "source": [
        "out = forward_pass(X_batch)\n",
        "probs, loss2 = softmax_cross_entropy_loss(out, Y_batch)"
      ],
      "metadata": {
        "id": "qH2srfwGH58W",
        "colab": {
          "base_uri": "https://localhost:8080/"
        },
        "outputId": "b0a9204a-2470-40de-d83b-d133d0445ad4"
      },
      "execution_count": null,
      "outputs": [
        {
          "output_type": "stream",
          "name": "stderr",
          "text": [
            "/tmp/ipython-input-30-801773364.py:9: RuntimeWarning: divide by zero encountered in log\n",
            "  correct_logprobs = -np.log(softmax[np.arange(batch_size), labels])\n"
          ]
        }
      ]
    },
    {
      "cell_type": "code",
      "source": [
        "print(f\"Loss before update: {loss1}\")\n",
        "print(f\"Loss after update: {loss2}\")"
      ],
      "metadata": {
        "colab": {
          "base_uri": "https://localhost:8080/"
        },
        "id": "l4AkxWzRH8yP",
        "outputId": "b8b6fef6-2380-45d4-d374-f87fe7b67a53"
      },
      "execution_count": null,
      "outputs": [
        {
          "output_type": "stream",
          "name": "stdout",
          "text": [
            "Loss before update: 2.303174376519629\n",
            "Loss after update: inf\n"
          ]
        }
      ]
    },
    {
      "cell_type": "markdown",
      "source": [
        "## **Day 3**\n",
        "\n",
        "\n",
        "1.   Implement Adam optimizer\n",
        "2.   Add Dropout\n",
        "3.   Implement one train epoch\n",
        "4.   Evaluate accuracy\n",
        "\n"
      ],
      "metadata": {
        "id": "cWJJS-Ie1G0u"
      }
    },
    {
      "cell_type": "code",
      "source": [
        "class SGD_momentum:\n",
        "\n",
        "  def __init__(self, params, learning_rate=0.01):\n",
        "    self.params = params\n",
        "    self.lr = learning_rate\n",
        "    self.momentum = [np.zeros_like(p) for p,_ in params]\n",
        "\n",
        "  def iterate(self):\n",
        "\n",
        "    for i, (p, grad) in enumerate(self.params):\n",
        "\n",
        "      self.momentum[i] = 0.9 * self.momentum[i] + (1 - 0.9) * grad\n",
        "      p[...] -= self.lr * self.momentum[i]"
      ],
      "metadata": {
        "id": "wvey4uH2oimD"
      },
      "execution_count": null,
      "outputs": []
    },
    {
      "cell_type": "code",
      "source": [
        "class Dropout:\n",
        "\n",
        "  def __init__(self, p, training=True):\n",
        "    self.p = p\n",
        "    self.mask = None\n",
        "    self.training = training\n",
        "\n",
        "  def forward(self, x):\n",
        "    if not self.training:\n",
        "      return x\n",
        "    self.mask = (np.random.randn(*x.shape) > self.p)/(1 - self.p)\n",
        "    return x*self.mask\n",
        "\n",
        "  def backward(self, grad):\n",
        "    return grad*self.mask"
      ],
      "metadata": {
        "id": "l0D9gG0MygPq"
      },
      "execution_count": null,
      "outputs": []
    },
    {
      "cell_type": "code",
      "source": [
        "dropout1 = Dropout(0.0)\n",
        "dropout2 = Dropout(0.0)\n",
        "\n",
        "def forward_with_dropout(x):\n",
        "\n",
        "  layer1_out = layer1.forward(x)\n",
        "  relu1_out = relu1.forward(layer1_out)\n",
        "  dropout1_out = dropout1.forward(relu1_out)\n",
        "\n",
        "  layer2_out = layer2.forward(dropout1_out)\n",
        "  relu2_out = relu2.forward(layer2_out)\n",
        "  dropout2_out = dropout2.forward(relu2_out)\n",
        "\n",
        "  layer3_out = layer3.forward(dropout2_out)\n",
        "  return layer3_out"
      ],
      "metadata": {
        "id": "xAU7iQt36ohw"
      },
      "execution_count": null,
      "outputs": []
    },
    {
      "cell_type": "code",
      "source": [
        "## Initalize adam optimizer\n",
        "\n",
        "sgdm = SGD_momentum(params = [(layer1.W, layer1.dW), (layer1.b, layer1.db),\n",
        "                               (layer2.W, layer2.dW), (layer2.b, layer2.db),\n",
        "                               (layer3.W, layer3.dW), (layer3.b, layer3.db)])"
      ],
      "metadata": {
        "id": "fTLW4qrw8BCd"
      },
      "execution_count": null,
      "outputs": []
    },
    {
      "cell_type": "code",
      "source": [
        "## Epoch wise training loop\n",
        "\n",
        "num_epochs = 15\n",
        "batch_size = 32\n",
        "\n",
        "for epoch in range(num_epochs):\n",
        "\n",
        "  total_loss = 0\n",
        "  total_samples = 0\n",
        "\n",
        "  for i in range(0, len(X_train), batch_size):\n",
        "    X_batch = X_train[i:i+batch_size]\n",
        "    Y_batch = Y_train[i:i+batch_size]\n",
        "\n",
        "    # Forward pass\n",
        "    out = forward_with_dropout(X_batch)\n",
        "    probs, loss = softmax_cross_entropy_loss(out, Y_batch)\n",
        "\n",
        "    # Sanity check\n",
        "    print(\"Logits:\", out[0])\n",
        "    print(\"Softmax:\", probs[0])\n",
        "    print(\"Predicted Label:\", np.argmax(probs[0]))\n",
        "    print(\"True Label:\", Y_batch[0])\n",
        "\n",
        "    total_loss += loss * X_batch.shape[0]   # un-average the loss\n",
        "    total_samples += X_batch.shape[0]\n",
        "\n",
        "    # Backward pass\n",
        "    softmax_grad = softmax_cross_entropy_loss_backward(probs, Y_batch)\n",
        "    grad = layer3.backward(softmax_grad)\n",
        "    grad = dropout2.backward(grad, True)\n",
        "    grad = relu2.backward(grad)\n",
        "    grad = layer2.backward(grad)\n",
        "    grad = dropout1.backward(grad, True)\n",
        "    grad = relu1.backward(grad)\n",
        "    grad = layer1.backward(grad)\n",
        "\n",
        "    sgdm.iterate()\n",
        "\n",
        "    print(layer1.W.__array_interface__['data'][0])\n",
        "    print(sgdm.params[0][0].__array_interface__['data'][0])\n",
        "\n",
        "  avg_loss = total_loss / total_samples\n"
      ],
      "metadata": {
        "id": "ox3AIlilFXFd"
      },
      "execution_count": null,
      "outputs": []
    },
    {
      "cell_type": "markdown",
      "source": [
        "## **Day 4**\n",
        "\n",
        "1.   Create validation instance\n",
        "2.   Forward without dropout\n"
      ],
      "metadata": {
        "id": "9KLB2LHlcx1h"
      }
    },
    {
      "cell_type": "code",
      "source": [
        "## Implement forward without dropout\n",
        "\n",
        "def forward_without_dropout(x):\n",
        "  layer1_out = layer1.forward(x)\n",
        "  relu1_out = relu1.forward(layer1_out)\n",
        "  layer2_out = layer2.forward(relu1_out)\n",
        "  relu2_out = relu2.forward(layer2_out)\n",
        "  layer3_out = layer3.forward(relu2_out)\n",
        "  return layer3_out"
      ],
      "metadata": {
        "id": "gHZjoWXddCxq"
      },
      "execution_count": null,
      "outputs": []
    },
    {
      "cell_type": "code",
      "source": [
        "## Evaluate validation loss\n",
        "\n",
        "def evaluate_validation_loss(X_val, Y_val, batch_size = 32):\n",
        "\n",
        "  total_loss = 0\n",
        "  total_samples = 0\n",
        "\n",
        "  for i in range(0,len(X_val),batch_size):\n",
        "\n",
        "    X_batch = X_val[i:i+batch_size]\n",
        "    Y_batch = Y_val[i:i+batch_size]\n",
        "\n",
        "    out = forward_without_dropout(X_batch)\n",
        "    probs, loss = softmax_cross_entropy_loss(out, Y_batch)\n",
        "\n",
        "    total_loss += loss * X_batch.shape[0]\n",
        "    total_samples += X_batch.shape[0]\n",
        "\n",
        "  avg_loss = total_loss / total_samples\n",
        "  return avg_loss"
      ],
      "metadata": {
        "id": "tCmb4GZhdoTC"
      },
      "execution_count": null,
      "outputs": []
    },
    {
      "cell_type": "code",
      "source": [
        "## Split training into traiing and validation\n",
        "\n",
        "from sklearn.model_selection import train_test_split\n",
        "\n",
        "X_train, X_val, Y_train, Y_val = train_test_split(X_train, Y_train, random_state=42, test_size=0.1)"
      ],
      "metadata": {
        "id": "oEfubZLQeysI"
      },
      "execution_count": null,
      "outputs": []
    },
    {
      "cell_type": "code",
      "source": [
        "## Epoch wise training and validation loop\n",
        "\n",
        "num_epochs = 50\n",
        "batch_size = 32\n",
        "\n",
        "for epoch in range(num_epochs):\n",
        "\n",
        "  total_loss = 0\n",
        "  total_samples = 0\n",
        "\n",
        "  for i in range(0, len(X_train), batch_size):\n",
        "    X_batch = X_train[i:i+batch_size]\n",
        "    Y_batch = Y_train[i:i+batch_size]\n",
        "\n",
        "    # Forward pass\n",
        "    out = forward_with_dropout(X_batch)\n",
        "    probs, loss = softmax_cross_entropy_loss(out, Y_batch)\n",
        "\n",
        "    total_loss += loss * X_batch.shape[0]   # un-average the loss\n",
        "    total_samples += X_batch.shape[0]\n",
        "\n",
        "    # Backward pass\n",
        "    softmax_grad = softmax_cross_entropy_loss_backward(probs, Y_batch)\n",
        "    grad = layer3.backward(softmax_grad)\n",
        "    grad = dropout2.backward(grad)\n",
        "    grad = relu2.backward(grad)\n",
        "    grad = layer2.backward(grad)\n",
        "    grad = dropout1.backward(grad)\n",
        "    grad = relu1.backward(grad)\n",
        "    grad = layer1.backward(grad)\n",
        "\n",
        "    for param, grad in sgdm.params:\n",
        "      param[...] -= 0.01 * grad\n",
        "\n",
        "  print(\"W[0,0] after:\", np.mean(layer1.W))\n",
        "  print(layer1.W.__array_interface__['data'][0])\n",
        "  print(sgdm.params[0][0].__array_interface__['data'][0])\n",
        "\n",
        "  val_avg_loss = evaluate_validation_loss(X_val, Y_val) # Validation loss\n",
        "  avg_train_loss = total_loss / total_samples # Train loss\n",
        "  print(f\"Epoch: {epoch}, Train Loss: {avg_train_loss}, Val Loss: {val_avg_loss}\")"
      ],
      "metadata": {
        "id": "QgW-5pgxeloM"
      },
      "execution_count": null,
      "outputs": []
    },
    {
      "cell_type": "markdown",
      "source": [
        "## Overfitting debugging"
      ],
      "metadata": {
        "id": "2AbtOZi0BT6-"
      }
    },
    {
      "cell_type": "code",
      "source": [
        "X_batch = X_train[:32]\n",
        "Y_batch = Y_train[:32]\n",
        "\n",
        "num_epochs = 150\n",
        "lr = 0.01\n",
        "\n",
        "for epoch in range(num_epochs):\n",
        "    # Forward\n",
        "    out = forward_without_dropout(X_batch)\n",
        "    probs, loss = softmax_cross_entropy_loss(out, Y_batch)\n",
        "\n",
        "    # Accuracy\n",
        "    acc = np.mean(np.argmax(probs, axis=1) == Y_batch)\n",
        "\n",
        "    # Backward\n",
        "    grad = softmax_cross_entropy_loss_backward(probs, Y_batch)\n",
        "    grad = layer3.backward(grad)\n",
        "    grad = relu2.backward(grad)\n",
        "    grad = layer2.backward(grad)\n",
        "    grad = relu1.backward(grad)\n",
        "    grad = layer1.backward(grad)\n",
        "\n",
        "    # SGD\n",
        "    for param, grad in [(layer1.W, layer1.dW), (layer1.b, layer1.db),\n",
        "                        (layer2.W, layer2.dW), (layer2.b, layer2.db),\n",
        "                        (layer3.W, layer3.dW), (layer3.b, layer3.db)]:\n",
        "        param -= lr * grad\n",
        "\n",
        "    print(f\"Epoch {epoch+1:3d}: Loss = {loss:.4f}, Accuracy = {acc:.4f}\")\n"
      ],
      "metadata": {
        "id": "Mj9rlDOKyT7K",
        "colab": {
          "base_uri": "https://localhost:8080/",
          "height": 216
        },
        "outputId": "d4167a2a-6c4d-4fac-94f7-812ede4b06f2"
      },
      "execution_count": null,
      "outputs": [
        {
          "output_type": "error",
          "ename": "NameError",
          "evalue": "name 'X_train' is not defined",
          "traceback": [
            "\u001b[0;31m---------------------------------------------------------------------------\u001b[0m",
            "\u001b[0;31mNameError\u001b[0m                                 Traceback (most recent call last)",
            "\u001b[0;32m/tmp/ipython-input-1-1465357348.py\u001b[0m in \u001b[0;36m<cell line: 0>\u001b[0;34m()\u001b[0m\n\u001b[0;32m----> 1\u001b[0;31m \u001b[0mX_batch\u001b[0m \u001b[0;34m=\u001b[0m \u001b[0mX_train\u001b[0m\u001b[0;34m[\u001b[0m\u001b[0;34m:\u001b[0m\u001b[0;36m32\u001b[0m\u001b[0;34m]\u001b[0m\u001b[0;34m\u001b[0m\u001b[0;34m\u001b[0m\u001b[0m\n\u001b[0m\u001b[1;32m      2\u001b[0m \u001b[0mY_batch\u001b[0m \u001b[0;34m=\u001b[0m \u001b[0mY_train\u001b[0m\u001b[0;34m[\u001b[0m\u001b[0;34m:\u001b[0m\u001b[0;36m32\u001b[0m\u001b[0;34m]\u001b[0m\u001b[0;34m\u001b[0m\u001b[0;34m\u001b[0m\u001b[0m\n\u001b[1;32m      3\u001b[0m \u001b[0;34m\u001b[0m\u001b[0m\n\u001b[1;32m      4\u001b[0m \u001b[0mnum_epochs\u001b[0m \u001b[0;34m=\u001b[0m \u001b[0;36m150\u001b[0m\u001b[0;34m\u001b[0m\u001b[0;34m\u001b[0m\u001b[0m\n\u001b[1;32m      5\u001b[0m \u001b[0mlr\u001b[0m \u001b[0;34m=\u001b[0m \u001b[0;36m0.01\u001b[0m\u001b[0;34m\u001b[0m\u001b[0;34m\u001b[0m\u001b[0m\n",
            "\u001b[0;31mNameError\u001b[0m: name 'X_train' is not defined"
          ]
        }
      ]
    },
    {
      "cell_type": "markdown",
      "source": [
        "## **Complete Model implementation**"
      ],
      "metadata": {
        "id": "FCEmMsGUEpvw"
      }
    },
    {
      "cell_type": "code",
      "source": [
        "class LinearLayer:\n",
        "\n",
        "  def __init__(self, input_dim, output_dim):\n",
        "    self.W = np.random.randn(input_dim, output_dim) * np.sqrt(2. /input_dim)\n",
        "    self.b = np.zeros((1, output_dim))\n",
        "    self.dW = 0\n",
        "    self.db = 0\n",
        "\n",
        "  def forward(self, X):\n",
        "    self.X = X\n",
        "    return np.dot(X, self.W) + self.b # Numpy broadcasting\n",
        "\n",
        "  # Day2\n",
        "  def backward(self, dL_dY):\n",
        "    self.dW = np.dot(self.X.T, dL_dY)\n",
        "    self.db = np.sum(dL_dY, axis=0, keepdims=True)\n",
        "    return np.dot(dL_dY, self.W.T) # This is h(k-1) layer"
      ],
      "metadata": {
        "id": "PC9tC_uPE0qW"
      },
      "execution_count": null,
      "outputs": []
    },
    {
      "cell_type": "code",
      "source": [
        "\n",
        "class ReLU:\n",
        "\n",
        "  def forward(self,X):\n",
        "    self.mask = X>0\n",
        "    return X*self.mask\n",
        "\n",
        "  # Day2\n",
        "  def backward(self, grad_output):\n",
        "    return self.mask * grad_output"
      ],
      "metadata": {
        "id": "rpbRZAoaFA9p"
      },
      "execution_count": null,
      "outputs": []
    },
    {
      "cell_type": "code",
      "source": [
        "def softmax_cross_entropy_loss(logits, labels):\n",
        "\n",
        "  exp = np.exp(logits - np.max(logits, axis=1, keepdims=True))\n",
        "  softmax = exp / np.sum(exp, axis=1, keepdims=True)\n",
        "\n",
        "  batch_size = logits.shape[0]\n",
        "  correct_logprobs = -np.log(softmax[np.arange(batch_size), labels] + 1e-9)\n",
        "  loss = np.sum(correct_logprobs) / batch_size\n",
        "  return softmax, loss"
      ],
      "metadata": {
        "id": "wOw8uUa-FIsQ"
      },
      "execution_count": null,
      "outputs": []
    },
    {
      "cell_type": "code",
      "source": [
        "## Gradients of loss at output layer - Day2\n",
        "\n",
        "def softmax_cross_entropy_loss_backward(softmax_probs, labels):\n",
        "\n",
        "  batch_size = softmax_probs.shape[0]\n",
        "  grad = softmax_probs.copy()\n",
        "  grad[np.arange(batch_size), labels] -= 1\n",
        "  grad /= batch_size\n",
        "  return grad"
      ],
      "metadata": {
        "id": "xbiLUrjzFTHo"
      },
      "execution_count": null,
      "outputs": []
    },
    {
      "cell_type": "code",
      "source": [
        "## Execute this before any training to reset weights\n",
        "\n",
        "layer1 = LinearLayer(784,128)\n",
        "relu1 = ReLU()\n",
        "layer2 = LinearLayer(128, 64)\n",
        "relu2 = ReLU()\n",
        "layer3 = LinearLayer(64, 10)"
      ],
      "metadata": {
        "id": "XLinCCzIFaPF"
      },
      "execution_count": null,
      "outputs": []
    },
    {
      "cell_type": "code",
      "source": [
        "# Batch normalization is not very helpful for such small batch size and shallow network\n",
        "\n",
        "class Param:\n",
        "    def __init__(self, param, grad_fn):\n",
        "        self.param = param\n",
        "        self.grad_fn = grad_fn\n",
        "\n",
        "    @property\n",
        "    def grad(self):\n",
        "        return self.grad_fn()\n",
        "\n",
        "\n",
        "class Adam:\n",
        "    def __init__(self, params, lr=0.00025, beta1=0.9, beta2=0.999, eps=1e-8):\n",
        "        self.params = params\n",
        "        self.lr = lr\n",
        "        self.beta1 = beta1\n",
        "        self.beta2 = beta2\n",
        "        self.eps = eps\n",
        "\n",
        "        self.m = [np.zeros_like(param.param) for param in params]  # First moment\n",
        "        self.v = [np.zeros_like(param.param) for param in params]  # Second moment\n",
        "        self.t = 0  # Time step\n",
        "\n",
        "    def iterate(self):\n",
        "        self.t += 1\n",
        "        for i, param in enumerate(self.params):\n",
        "            grad = param.grad  # grad is now a property\n",
        "\n",
        "            self.m[i] = self.beta1 * self.m[i] + (1 - self.beta1) * grad\n",
        "            self.v[i] = self.beta2 * self.v[i] + (1 - self.beta2) * (grad ** 2)\n",
        "\n",
        "            m_hat = self.m[i] / (1 - self.beta1 ** self.t)\n",
        "            v_hat = self.v[i] / (1 - self.beta2 ** self.t)\n",
        "\n",
        "            param.param -= self.lr * m_hat / (np.sqrt(v_hat) + self.eps)\n",
        "\n",
        "\n",
        "\n",
        "class Dropout:\n",
        "\n",
        "  def __init__(self, p, training=True):\n",
        "    self.p = p\n",
        "    self.mask = None\n",
        "    self.training = training\n",
        "\n",
        "  def forward(self, x):\n",
        "    if not self.training:\n",
        "      return x\n",
        "    self.mask = (np.random.randn(*x.shape) > self.p)/(1 - self.p)\n",
        "    return x*self.mask\n",
        "\n",
        "  def backward(self, grad):\n",
        "    return grad*self.mask\n",
        "\n",
        "\n",
        "dropout1 = Dropout(0.3)\n",
        "dropout2 = Dropout(0.2)\n",
        "\n",
        "\n",
        "adam = Adam([\n",
        "    Param(layer1.W, lambda: layer1.dW),\n",
        "    Param(layer1.b, lambda: layer1.db),\n",
        "    Param(layer2.W, lambda: layer2.dW),\n",
        "    Param(layer2.b, lambda: layer2.db),\n",
        "    Param(layer3.W, lambda: layer3.dW),\n",
        "    Param(layer3.b, lambda: layer3.db),\n",
        "])"
      ],
      "metadata": {
        "id": "_EwZ_AYEFi_A"
      },
      "execution_count": null,
      "outputs": []
    },
    {
      "cell_type": "code",
      "source": [
        "\n",
        "def forward_with_dropout(x):\n",
        "\n",
        "  layer1_out = layer1.forward(x)\n",
        "  relu1_out = relu1.forward(layer1_out)\n",
        "  dropout1_out = dropout1.forward(relu1_out)\n",
        "\n",
        "  layer2_out = layer2.forward(dropout1_out)\n",
        "  relu2_out = relu2.forward(layer2_out)\n",
        "  dropout2_out = dropout2.forward(relu2_out)\n",
        "\n",
        "  layer3_out = layer3.forward(dropout2_out) #Classification layer\n",
        "  return layer3_out\n",
        "\n",
        "def forward_without_dropout(x):\n",
        "  layer1_out = layer1.forward(x)\n",
        "  relu1_out = relu1.forward(layer1_out)\n",
        "  layer2_out = layer2.forward(relu1_out)\n",
        "  relu2_out = relu2.forward(layer2_out)\n",
        "  layer3_out = layer3.forward(relu2_out)\n",
        "  return layer3_out"
      ],
      "metadata": {
        "id": "dU_dwxiJGDtD"
      },
      "execution_count": null,
      "outputs": []
    },
    {
      "cell_type": "code",
      "source": [
        "def evaluate_validation_loss(X_val, Y_val, batch_size = 32):\n",
        "\n",
        "  total_loss = 0\n",
        "  total_samples = 0\n",
        "\n",
        "  for i in range(0,len(X_val),batch_size):\n",
        "\n",
        "    X_batch = X_val[i:i+batch_size]\n",
        "    Y_batch = Y_val[i:i+batch_size]\n",
        "\n",
        "    out = forward_without_dropout(X_batch)\n",
        "    probs, loss = softmax_cross_entropy_loss(out, Y_batch)\n",
        "\n",
        "    total_loss += loss * X_batch.shape[0]\n",
        "    total_samples += X_batch.shape[0]\n",
        "\n",
        "  avg_loss = total_loss / total_samples\n",
        "  return avg_loss"
      ],
      "metadata": {
        "id": "Vss6ZNH_GQEB"
      },
      "execution_count": null,
      "outputs": []
    },
    {
      "cell_type": "code",
      "source": [
        "from sklearn.model_selection import train_test_split\n",
        "\n",
        "X_train, X_val, Y_train, Y_val = train_test_split(X_train, Y_train, random_state=42, test_size=0.1)"
      ],
      "metadata": {
        "id": "l5BWFgafGUSd"
      },
      "execution_count": null,
      "outputs": []
    },
    {
      "cell_type": "code",
      "source": [
        "import matplotlib.pyplot as plt\n",
        "\n",
        "num_epochs = 15\n",
        "batch_size = 32\n",
        "\n",
        "train_losses = []\n",
        "val_losses = []\n",
        "\n",
        "for epoch in range(num_epochs):\n",
        "\n",
        "    total_loss = 0\n",
        "    total_samples = 0\n",
        "\n",
        "    for i in range(0, len(X_train), batch_size):\n",
        "\n",
        "        X_batch = X_train[i:i+batch_size]\n",
        "        Y_batch = Y_train[i:i+batch_size]\n",
        "\n",
        "        # Forward pass\n",
        "        out = forward_with_dropout(X_batch)\n",
        "        probs, loss = softmax_cross_entropy_loss(out, Y_batch)\n",
        "\n",
        "        total_loss += loss * X_batch.shape[0]   # un-average the loss\n",
        "        total_samples += X_batch.shape[0]\n",
        "\n",
        "        # Backward pass\n",
        "        softmax_grad = softmax_cross_entropy_loss_backward(probs, Y_batch)\n",
        "        grad = layer3.backward(softmax_grad)\n",
        "        grad = dropout2.backward(grad)\n",
        "        grad = relu2.backward(grad)\n",
        "        grad = layer2.backward(grad)\n",
        "        grad = dropout1.backward(grad)\n",
        "        grad = relu1.backward(grad)\n",
        "        grad = layer1.backward(grad)\n",
        "\n",
        "        adam.iterate()\n",
        "\n",
        "    # Average train and val loss\n",
        "    avg_train_loss = total_loss / total_samples\n",
        "    val_avg_loss = evaluate_validation_loss(X_val, Y_val)\n",
        "\n",
        "    # Save losses for plotting\n",
        "    train_losses.append(avg_train_loss)\n",
        "    val_losses.append(val_avg_loss)\n",
        "\n",
        "    print(f\"Epoch: {epoch}, Train Loss: {avg_train_loss}, Val Loss: {val_avg_loss}\")"
      ],
      "metadata": {
        "colab": {
          "base_uri": "https://localhost:8080/"
        },
        "id": "_Lv_VkRcGfHQ",
        "outputId": "62650a9f-7d19-4bc7-f12b-72fde71251c6"
      },
      "execution_count": null,
      "outputs": [
        {
          "output_type": "stream",
          "name": "stdout",
          "text": [
            "Epoch: 0, Train Loss: 1.8357757156003103, Val Loss: 0.6830366327128851\n",
            "Epoch: 1, Train Loss: 1.1344301123690588, Val Loss: 0.5562001292940026\n",
            "Epoch: 2, Train Loss: 0.8819383230502417, Val Loss: 0.4999574905693926\n",
            "Epoch: 3, Train Loss: 0.7557586396257077, Val Loss: 0.49070822408658055\n",
            "Epoch: 4, Train Loss: 0.6797118843142673, Val Loss: 0.47927139799208013\n",
            "Epoch: 5, Train Loss: 0.6063064624565838, Val Loss: 0.4484063150393465\n",
            "Epoch: 6, Train Loss: 0.5799274932897134, Val Loss: 0.439867624331919\n",
            "Epoch: 7, Train Loss: 0.53257376297005, Val Loss: 0.44742694327586124\n",
            "Epoch: 8, Train Loss: 0.5086844750268276, Val Loss: 0.4174723047274887\n",
            "Epoch: 9, Train Loss: 0.4812530129181618, Val Loss: 0.4123473290823987\n",
            "Epoch: 10, Train Loss: 0.4649187848360124, Val Loss: 0.41006104904363466\n",
            "Epoch: 11, Train Loss: 0.4425302267725911, Val Loss: 0.3935017041494045\n",
            "Epoch: 12, Train Loss: 0.4195911105694928, Val Loss: 0.40732586326483106\n",
            "Epoch: 13, Train Loss: 0.4085974004613115, Val Loss: 0.3810552965472839\n",
            "Epoch: 14, Train Loss: 0.40054887209800716, Val Loss: 0.3709615892415508\n"
          ]
        }
      ]
    },
    {
      "cell_type": "code",
      "source": [
        "plt.figure(figsize=(10, 6))\n",
        "plt.plot(train_losses, label='Train Loss')\n",
        "plt.plot(val_losses, label='Validation Loss')\n",
        "plt.xlabel('Epochs')\n",
        "plt.ylabel('Loss')\n",
        "plt.title('Training and Validation Loss over Epochs')\n",
        "plt.legend()\n",
        "plt.grid(True)\n",
        "plt.show()"
      ],
      "metadata": {
        "colab": {
          "base_uri": "https://localhost:8080/",
          "height": 564
        },
        "id": "kwchdT4yRzDr",
        "outputId": "54177441-4ede-4626-df37-5fbafb79ace7"
      },
      "execution_count": null,
      "outputs": [
        {
          "output_type": "display_data",
          "data": {
            "text/plain": [
              "<Figure size 1000x600 with 1 Axes>"
            ],
            "image/png": "[encoded data removed]"
          },
          "metadata": {}
        }
      ]
    },
    {
      "cell_type": "code",
      "source": [
        "## Test the accuracy, precision and recall for the trained model\n",
        "\n",
        "from sklearn.metrics import accuracy_score, precision_score, recall_score, classification_report, confusion_matrix\n",
        "\n",
        "def evaluate_model(model, X_test, Y_test):\n",
        "\n",
        "    logits = model.forward(X_test, training=False)\n",
        "\n",
        "    y_pred = np.argmax(logits, axis=1)\n",
        "\n",
        "    y_true = Y_test\n",
        "\n",
        "    accuracy = accuracy_score(y_true, y_pred)\n",
        "    precision = precision_score(y_true, y_pred, average='weighted')\n",
        "    recall = recall_score(y_true, y_pred, average='weighted')\n",
        "\n",
        "    report = classification_report(y_true, y_pred, digits=4)\n",
        "\n",
        "    cm = confusion_matrix(y_true, y_pred)\n",
        "\n",
        "    return accuracy, precision, recall, report, cm\n",
        "\n"
      ],
      "metadata": {
        "id": "YdegaFhRwm3R"
      },
      "execution_count": null,
      "outputs": []
    },
    {
      "cell_type": "code",
      "source": [
        "class MyModel:\n",
        "    def __init__(self):\n",
        "        self.layer1 = layer1\n",
        "        self.dropout1 = dropout1\n",
        "        self.relu1 = relu1\n",
        "        self.layer2 = layer2\n",
        "        self.dropout2 = dropout2\n",
        "        self.relu2 = relu2\n",
        "        self.layer3 = layer3\n",
        "\n",
        "    def forward(self, x, training=True):\n",
        "        out = self.layer1.forward(x)\n",
        "        out = self.relu1.forward(out)\n",
        "        if training:\n",
        "            out = self.dropout1.forward(out)\n",
        "\n",
        "        out = self.layer2.forward(out)\n",
        "        out = self.relu2.forward(out)\n",
        "        if training:\n",
        "            out = self.dropout2.forward(out)\n",
        "\n",
        "        out = self.layer3.forward(out)\n",
        "\n",
        "        # Softmax for classification\n",
        "        exp = np.exp(out - np.max(out, axis=1, keepdims=True))\n",
        "        softmax_out = exp / np.sum(exp, axis=1, keepdims=True)\n",
        "\n",
        "        return softmax_out\n"
      ],
      "metadata": {
        "id": "ynrwEWkwCJ4n"
      },
      "execution_count": null,
      "outputs": []
    },
    {
      "cell_type": "code",
      "source": [
        "model = MyModel()\n",
        "\n",
        "accuracy, precision, recall, report, cm = evaluate_model(model, X_test, Y_test)\n",
        "\n",
        "print(f\"Accuracy: {accuracy:.4f}\")\n",
        "print(f\"Precision: {precision:.4f}\")\n",
        "print(f\"Recall: {recall:.4f}\")\n",
        "print(\"Classification Report:\\n\", report)\n",
        "print(\"Confusion Matrix:\\n\", cm)"
      ],
      "metadata": {
        "colab": {
          "base_uri": "https://localhost:8080/"
        },
        "id": "mvnQerE7Fa-j",
        "outputId": "1f234702-f08a-4482-df2d-2d8de6e51c40"
      },
      "execution_count": null,
      "outputs": [
        {
          "output_type": "stream",
          "name": "stdout",
          "text": [
            "Accuracy: 0.9345\n",
            "Precision: 0.9344\n",
            "Recall: 0.9345\n",
            "Classification Report:\n",
            "               precision    recall  f1-score   support\n",
            "\n",
            "           0     0.9387    0.9847    0.9612       980\n",
            "           1     0.9695    0.9806    0.9750      1135\n",
            "           2     0.9407    0.9225    0.9315      1032\n",
            "           3     0.9172    0.9327    0.9249      1010\n",
            "           4     0.9138    0.9389    0.9262       982\n",
            "           5     0.9326    0.8845    0.9079       892\n",
            "           6     0.9378    0.9593    0.9484       958\n",
            "           7     0.9404    0.9377    0.9391      1027\n",
            "           8     0.9214    0.8901    0.9055       974\n",
            "           9     0.9268    0.9039    0.9152      1009\n",
            "\n",
            "    accuracy                         0.9345      9999\n",
            "   macro avg     0.9339    0.9335    0.9335      9999\n",
            "weighted avg     0.9344    0.9345    0.9343      9999\n",
            "\n",
            "Confusion Matrix:\n",
            " [[ 965    0    1    1    0    3    6    2    2    0]\n",
            " [   0 1113    3    4    1    0    3    2    9    0]\n",
            " [   8    6  952   10   10    0    9   12   23    2]\n",
            " [   4    2   19  942    1   17    0   13    9    3]\n",
            " [   1    0    5    0  922    1   15    2    3   33]\n",
            " [  12    1    1   35    6  789   15    6   23    4]\n",
            " [  16    3    1    1    7    8  919    1    2    0]\n",
            " [   3   10   21    3    7    0    1  963    0   19]\n",
            " [   8    8    9   17   12   19   11   12  867   11]\n",
            " [  11    5    0   14   43    9    1   11    3  912]]\n"
          ]
        }
      ]
    }
  ]
}